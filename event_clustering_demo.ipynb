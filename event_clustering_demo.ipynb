{
 "cells": [
  {
   "cell_type": "code",
   "execution_count": 1,
   "metadata": {
    "collapsed": false
   },
   "outputs": [
    {
     "name": "stderr",
     "output_type": "stream",
     "text": [
      "Using TensorFlow backend.\n"
     ]
    }
   ],
   "source": [
    "import numpy as np\n",
    "import random\n",
    "import matplotlib.pyplot as plt\n",
    "import copy\n",
    "import pickle\n",
    "\n",
    "% matplotlib inline\n",
    "\n",
    "from sem_context import SemContext\n",
    "import event_generation\n",
    "import encoding_schemes\n",
    "from event_schemas import BasicRNN, HybridRNN\n",
    "import hrr\n",
    "\n",
    "import keras\n",
    "\n",
    "import sem"
   ]
  },
  {
   "cell_type": "markdown",
   "metadata": {},
   "source": [
    "### Instantiate Model"
   ]
  },
  {
   "cell_type": "code",
   "execution_count": 2,
   "metadata": {
    "collapsed": false
   },
   "outputs": [],
   "source": [
    "dim = 100\n",
    "context = pickle.load(open(\"final_context.p\", \"rb\" ))\n",
    "opts = sem.sem_options(None, dim, lambd = 0.0, alpha = 0.7, beta = 1.0)\n",
    "s = sem.sem_init(opts, context)"
   ]
  },
  {
   "cell_type": "markdown",
   "metadata": {},
   "source": [
    "### Cluster Events"
   ]
  },
  {
   "cell_type": "code",
   "execution_count": 3,
   "metadata": {
    "collapsed": true
   },
   "outputs": [],
   "source": [
    "events, generator_indices = event_generation.generate_clustering_events(context, 'all_property_addition', num_events = 100)"
   ]
  },
  {
   "cell_type": "code",
   "execution_count": 4,
   "metadata": {
    "collapsed": false
   },
   "outputs": [],
   "source": [
    "from scipy.stats import multivariate_normal as mvnormal\n",
    "\n",
    "def logsumexp(x):\n",
    "    if len(x) == 0:\n",
    "        return 0\n",
    "    y = np.max(x)\n",
    "    x = x - y\n",
    "    s = y + np.log(sum(np.exp(x)))\n",
    "    return s\n",
    "\n",
    "def cluster_events(events, sem, opts):\n",
    "    d = opts['d']\n",
    "    k = opts['max_events']\n",
    "    Sigma = np.eye(d) * opts['beta']\n",
    "\n",
    "    # return all event ids and all predictions under the last event id\n",
    "    assignments = []\n",
    "    assignments.append(0)\n",
    "\n",
    "    # default creation of first event and assignment of first scene\n",
    "    event_counts = sem['event_counts']\n",
    "    event_counts[0] = 1\n",
    "\n",
    "    n = len(events)\n",
    "    for time in range(1, n):\n",
    "        # create crp prior from event counts\n",
    "        prior = copy.copy(sem['event_counts'])        \n",
    "        empty = np.where(prior == 0)[0]\n",
    "        # new event creation parameter\n",
    "        if len(empty) > 0:\n",
    "            prior[empty[0]] = opts['alpha']\n",
    "\n",
    "        predictions = [[] for i in range(k)]\n",
    "        likelihood = np.zeros(k)\n",
    "        active = np.nonzero(prior)[0]\n",
    "        errors = []\n",
    "        for i in active:   \n",
    "            predictions[i] = 0.0\n",
    "            seen = [events[time][0]]\n",
    "            for s in range(1, len(events[time])):\n",
    "                prediction = hrr.normalize(sem['theta'][i].predict(seen))\n",
    "                predictions[i] += np.linalg.norm(events[time][s] - prediction)/(len(events[time]) - 1.0)\n",
    "                seen.append(events[time][s])\n",
    "            likelihood[i] = mvnormal.logpdf(predictions[i], mean=np.zeros(d), cov=Sigma)\n",
    "\n",
    "        # construct posterior from prior and likelihood to choose event at current time\n",
    "        posteriors = np.zeros(k)\n",
    "        p = np.log(prior[active]) + likelihood[active]\n",
    "        post = np.exp(p-logsumexp(p))    \n",
    "        posteriors[active] = post\n",
    "        posteriors[np.isnan(posteriors)] = 0\n",
    "        \n",
    "        chosenevent = np.where(posteriors == max(posteriors))[0][0]\n",
    "        sem['theta'][chosenevent].train_recurrent(events[time]) \n",
    "        assignments.append(chosenevent)\n",
    "        event_counts[chosenevent] += 1\n",
    "        \n",
    "    return assignments"
   ]
  },
  {
   "cell_type": "code",
   "execution_count": 5,
   "metadata": {
    "collapsed": false
   },
   "outputs": [],
   "source": [
    "assignments = cluster_events(events, s, opts)"
   ]
  },
  {
   "cell_type": "code",
   "execution_count": 6,
   "metadata": {
    "collapsed": false
   },
   "outputs": [
    {
     "name": "stdout",
     "output_type": "stream",
     "text": [
      "[0, 0, 1, 1, 1, 0, 0, 1, 1, 0, 0, 1, 1, 1, 0, 1, 1, 1, 1, 0, 1, 1, 1, 1, 1, 1, 1, 1, 1, 1, 1, 1, 1, 1, 1, 1, 1, 1, 1, 1, 1, 1, 1, 1, 1, 1, 1, 1, 1, 1, 1, 1, 1, 1, 1, 1, 1, 1, 1, 1, 1, 1, 1, 1, 1, 1, 1, 1, 1, 1, 1, 1, 1, 1, 1, 1, 1, 1, 1, 1, 1, 1, 1, 1, 1, 1, 1, 1, 1, 1, 1, 1, 1, 1, 1, 1, 1, 1, 1, 1]\n"
     ]
    }
   ],
   "source": [
    "print assignments"
   ]
  },
  {
   "cell_type": "code",
   "execution_count": 7,
   "metadata": {
    "collapsed": false
   },
   "outputs": [
    {
     "name": "stdout",
     "output_type": "stream",
     "text": [
      "[0, 0, 1, 1, 1, 0, 0, 1, 0, 0, 1, 1, 1, 0, 0, 0, 1, 1, 0, 1, 1, 1, 0, 0, 0, 1, 0, 0, 1, 0, 1, 0, 0, 0, 0, 0, 1, 0, 1, 0, 0, 0, 1, 1, 0, 0, 1, 0, 0, 0, 1, 1, 0, 1, 1, 1, 1, 0, 0, 1, 1, 1, 0, 1, 0, 1, 1, 1, 0, 0, 0, 1, 1, 0, 0, 0, 0, 0, 1, 0, 1, 1, 1, 0, 0, 0, 1, 1, 0, 0, 0, 1, 1, 1, 0, 0, 1, 0, 0, 0]\n"
     ]
    }
   ],
   "source": [
    "print generator_indices"
   ]
  },
  {
   "cell_type": "code",
   "execution_count": 10,
   "metadata": {
    "collapsed": false
   },
   "outputs": [],
   "source": [
    "# TODO: account for different possible orderings\n",
    "def error(a, b):\n",
    "    count = 0.0\n",
    "    for i in range(len(a)):\n",
    "        if a[i] == b[i]:\n",
    "            count+=1\n",
    "    return count/len(a)"
   ]
  },
  {
   "cell_type": "code",
   "execution_count": 11,
   "metadata": {
    "collapsed": false
   },
   "outputs": [
    {
     "data": {
      "text/plain": [
       "0.49"
      ]
     },
     "execution_count": 11,
     "metadata": {},
     "output_type": "execute_result"
    }
   ],
   "source": [
    "error(assignments, generator_indices)"
   ]
  },
  {
   "cell_type": "code",
   "execution_count": null,
   "metadata": {
    "collapsed": false
   },
   "outputs": [],
   "source": [
    "# parameter grid search attempt\n",
    "l = 0.0\n",
    "res = []\n",
    "for a in np.arange(0, 2, 1.0):\n",
    "    small = []\n",
    "    for b in np.arange(0, 2, 1.0):\n",
    "        opts = sem.sem_options(None, dim, lambd = l, alpha = a, beta = b)\n",
    "        s = sem.sem_init(opts, context)\n",
    "        assignments = cluster_events(events, s, opts)\n",
    "        small.append(error(assignments, generator_indices))\n",
    "    res.append(small)"
   ]
  }
 ],
 "metadata": {
  "kernelspec": {
   "display_name": "Python 2",
   "language": "python",
   "name": "python2"
  },
  "language_info": {
   "codemirror_mode": {
    "name": "ipython",
    "version": 2
   },
   "file_extension": ".py",
   "mimetype": "text/x-python",
   "name": "python",
   "nbconvert_exporter": "python",
   "pygments_lexer": "ipython2",
   "version": "2.7.8"
  }
 },
 "nbformat": 4,
 "nbformat_minor": 1
}
