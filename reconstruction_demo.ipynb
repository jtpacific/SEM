{
 "cells": [
  {
   "cell_type": "code",
   "execution_count": null,
   "metadata": {
    "collapsed": false
   },
   "outputs": [],
   "source": [
    "import numpy as np\n",
    "import random\n",
    "import matplotlib.pyplot as plt\n",
    "import copy\n",
    "\n",
    "% matplotlib inline\n",
    "\n",
    "import sem\n",
    "import story_generation\n",
    "from event_schemas import LinearMLP, BasicRNN, LinearRNN, BoundedRNN\n",
    "import hrr"
   ]
  },
  {
   "cell_type": "markdown",
   "metadata": {},
   "source": [
    "### HRR Sanity Check"
   ]
  },
  {
   "cell_type": "code",
   "execution_count": null,
   "metadata": {
    "collapsed": true
   },
   "outputs": [],
   "source": [
    "dim = 5"
   ]
  },
  {
   "cell_type": "code",
   "execution_count": null,
   "metadata": {
    "collapsed": false
   },
   "outputs": [],
   "source": [
    "a = hrr.embed_2d(dim, None)\n",
    "b = hrr.embed_2d(dim, None)\n",
    "c = hrr.encode(a, b)\n",
    "print a\n",
    "print b\n",
    "print c"
   ]
  },
  {
   "cell_type": "code",
   "execution_count": null,
   "metadata": {
    "collapsed": false
   },
   "outputs": [],
   "source": [
    "print hrr.normalize(a)\n",
    "print hrr.normalize(hrr.decode(c, b))\n",
    "print \n",
    "print hrr.normalize(b)\n",
    "print hrr.normalize(hrr.decode(c, a))"
   ]
  },
  {
   "cell_type": "markdown",
   "metadata": {},
   "source": [
    "### HRR Reconstruction"
   ]
  },
  {
   "cell_type": "code",
   "execution_count": null,
   "metadata": {
    "collapsed": false
   },
   "outputs": [],
   "source": [
    "# euclidean assignment to closest object\n",
    "def eucl_match(prediction, objects):\n",
    "    dists = list(map(lambda x : np.linalg.norm(prediction - x), objects))\n",
    "    index = dists.index(min(dists)) \n",
    "    return objects[index]\n",
    "\n",
    "def semantic_error(constants, predicted_scene, semantic_truth):\n",
    "    decode_subj = hrr.decode(predicted_scene, constants['placeholders']['subject'])\n",
    "    decode_subj_noun = hrr.decode(decode_subj, constants['placeholders']['noun'])\n",
    "    decode_subj_property = hrr.decode(decode_subj, constants['placeholders']['property'])\n",
    "    decode_verb = hrr.decode(predicted_scene, constants['placeholders']['verb'])\n",
    "    decode_obj = hrr.decode(predicted_scene, constants['placeholders']['object'])\n",
    "    decode_obj_noun = hrr.decode(decode_obj, constants['placeholders']['noun'])\n",
    "    decode_obj_property = hrr.decode(decode_obj, constants['placeholders']['property'])\n",
    "    \n",
    "    normalized_nouns = list(map(lambda x: hrr.normalize(x), constants['nouns'].values())) + list(map(lambda x: hrr.normalize(x['vector']), actors))\n",
    "    normalized_verbs = list(map(lambda x: hrr.normalize(x), constants['verbs'].values()))\n",
    "    normalized_properties = list(map(lambda x: hrr.normalize(x), constants['properties'].values()))\n",
    "    \n",
    "    pred_subj_noun = eucl_match(hrr.normalize(decode_subj_noun), normalized_nouns)\n",
    "    pred_subj_property = eucl_match(hrr.normalize(decode_subj_property), normalized_properties)\n",
    "    pred_verb = eucl_match(hrr.normalize(decode_verb), normalized_verbs)\n",
    "    pred_obj_noun = eucl_match(hrr.normalize(decode_obj_noun), normalized_nouns)\n",
    "    pred_obj_property = eucl_match(hrr.normalize(decode_obj_property), normalized_properties)\n",
    "\n",
    "    matched = 0\n",
    "    if list(pred_subj_noun) != list(hrr.normalize(semantic_truth['subject_noun'])):\n",
    "        matched += 1\n",
    "    if list(pred_subj_property) != list(hrr.normalize(semantic_truth['subject_property'])):\n",
    "        matched += 1\n",
    "    if list(pred_verb) != list(hrr.normalize(semantic_truth['verb'])):\n",
    "        matched += 1\n",
    "    if list(pred_obj_noun) != list(hrr.normalize(semantic_truth['object_noun'])):\n",
    "        matched += 1\n",
    "    if list(pred_obj_property) != list(hrr.normalize(semantic_truth['object_property'])):\n",
    "        matched += 1\n",
    "    return matched/5.0"
   ]
  },
  {
   "cell_type": "code",
   "execution_count": null,
   "metadata": {
    "collapsed": false
   },
   "outputs": [],
   "source": [
    "actors, constants = story_generation.initialize_vectors(dim)\n",
    "training, semantic_vectors = story_generation.generate_evaluation_events(actors, constants, 100)"
   ]
  },
  {
   "cell_type": "code",
   "execution_count": null,
   "metadata": {
    "collapsed": false
   },
   "outputs": [],
   "source": [
    "demo = LinearRNN(dim)\n",
    "# training is a set of sequences\n",
    "semantic_errors = []\n",
    "euclidean_errors = []\n",
    "preds = []\n",
    "for e in range(len(training)):\n",
    "    event = training[e]\n",
    "    seen = [event[0]]\n",
    "    sem_error = 0\n",
    "    eucl_error = 0\n",
    "    count = 0\n",
    "    pred = []\n",
    "    for s in range(1, len(event)):\n",
    "        scene = event[s]\n",
    "        count += 1\n",
    "        prediction = demo.predict(seen)\n",
    "        sem_error += semantic_error(constants, prediction, semantic_vectors[e][s])\n",
    "        eucl_error += np.linalg.norm(prediction - scene)\n",
    "        seen.append(scene)\n",
    "        pred.append(prediction)\n",
    "    semantic_errors.append(sem_error / count)\n",
    "    euclidean_errors.append(eucl_error / count)\n",
    "    demo.train_recurrent(event)\n",
    "    preds.append(pred)"
   ]
  },
  {
   "cell_type": "code",
   "execution_count": null,
   "metadata": {
    "collapsed": false
   },
   "outputs": [],
   "source": [
    "plt.plot(range(len(euclidean_errors)), euclidean_errors)"
   ]
  },
  {
   "cell_type": "code",
   "execution_count": null,
   "metadata": {
    "collapsed": false
   },
   "outputs": [],
   "source": [
    "plt.plot(range(len(semantic_errors)), semantic_errors)"
   ]
  }
 ],
 "metadata": {
  "kernelspec": {
   "display_name": "Python 2",
   "language": "python",
   "name": "python2"
  },
  "language_info": {
   "codemirror_mode": {
    "name": "ipython",
    "version": 2
   },
   "file_extension": ".py",
   "mimetype": "text/x-python",
   "name": "python",
   "nbconvert_exporter": "python",
   "pygments_lexer": "ipython2",
   "version": "2.7.8"
  }
 },
 "nbformat": 4,
 "nbformat_minor": 1
}
