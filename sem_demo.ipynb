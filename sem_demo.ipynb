{
 "cells": [
  {
   "cell_type": "code",
   "execution_count": null,
   "metadata": {
    "collapsed": false
   },
   "outputs": [],
   "source": [
    "import numpy as np\n",
    "import random\n",
    "import matplotlib.pyplot as plt\n",
    "import copy\n",
    "\n",
    "% matplotlib inline\n",
    "\n",
    "import sem\n",
    "import story_generation\n",
    "from event_schemas import LinearMLP, BasicRNN, LinearRNN"
   ]
  },
  {
   "cell_type": "code",
   "execution_count": null,
   "metadata": {
    "collapsed": true
   },
   "outputs": [],
   "source": [
    "# parameters\n",
    "dim = 5\n",
    "train_len = 100\n",
    "test_len = 10\n",
    "transition_model = BasicRNN"
   ]
  },
  {
   "cell_type": "code",
   "execution_count": null,
   "metadata": {
    "collapsed": false
   },
   "outputs": [],
   "source": [
    "# generate training and testing scene sequences - testing is just a smaller # of events to simplify evaluation\n",
    "training, generating_train, testing, generating_test = story_generation.generate_stories(train_len, test_len, dim)"
   ]
  },
  {
   "cell_type": "code",
   "execution_count": null,
   "metadata": {
    "collapsed": true
   },
   "outputs": [],
   "source": [
    "# initialize sem structure\n",
    "opts = sem.sem_options(None, dim, eta = 0.2, alpha = 1.0, beta = 2.0, lambd = 5000, model = transition_model)\n",
    "sem_obj = sem.sem_init(opts)"
   ]
  },
  {
   "cell_type": "code",
   "execution_count": null,
   "metadata": {
    "collapsed": false
   },
   "outputs": [],
   "source": [
    "# perform segmentation \n",
    "train_events, train_predictions = sem.sem_segment(training, sem_obj, opts)\n",
    "test_events, test_predictions = sem.sem_segment(testing, sem_obj, opts)\n",
    "\n",
    "ground_truth = []\n",
    "ground_truth.extend(training)\n",
    "predictions = []\n",
    "predictions.extend(train_predictions)\n",
    "del ground_truth[0]"
   ]
  },
  {
   "cell_type": "code",
   "execution_count": null,
   "metadata": {
    "collapsed": false
   },
   "outputs": [],
   "source": [
    "# working on better visualization methods"
   ]
  }
 ],
 "metadata": {
  "kernelspec": {
   "display_name": "Python 2",
   "language": "python",
   "name": "python2"
  },
  "language_info": {
   "codemirror_mode": {
    "name": "ipython",
    "version": 2
   },
   "file_extension": ".py",
   "mimetype": "text/x-python",
   "name": "python",
   "nbconvert_exporter": "python",
   "pygments_lexer": "ipython2",
   "version": "2.7.8"
  }
 },
 "nbformat": 4,
 "nbformat_minor": 1
}
